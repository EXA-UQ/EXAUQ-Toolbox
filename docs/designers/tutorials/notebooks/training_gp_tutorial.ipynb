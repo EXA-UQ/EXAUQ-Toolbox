{
 "cells": [
  {
   "cell_type": "markdown",
   "metadata": {},
   "source": [
    "# Training a Gaussian Process Emulator\n",
    "\n",
    "The purpose of this tutorial is to demonstrate how to train a Gaussian process (GP) to\n",
    "emulate a simulator. It introduces the main objects that the EXAUQ-Toolbox provides for\n",
    "training emulators and working with experimental designs. This tutorial will show you how\n",
    "to:\n",
    "\n",
    "* Work with simulator inputs and simulator domains.\n",
    "* Create an experimental design, using Latin hypercube sampling provided by\n",
    "  [scipy](https://scipy.org/).\n",
    "* Define a Gaussian process and train it using simulator outputs for the experimental\n",
    "  design.\n",
    "* Make new predictions of simulator outputs using the trained GP.\n",
    "\n",
    "!!! note\n",
    "\n",
    "    Due to the pseudo-stochastic nature of the algorithms for fitting\n",
    "    Gaussian processes, you may get slight differences in some of the code outputs in\n",
    "    this tutorial.\n",
    "\n",
    "## Simulator domain and inputs\n",
    "\n",
    "From an abstract, mathematical point of view, we view a **simulator** as nothing more than\n",
    "a (computationally laborious) function that takes an input and returns a single\n",
    "real number. (Within this toolbox they must also be determinsitic.) In general, the input consists of a point in a multi-dimensional space called\n",
    "the **simulator domain** (or just **domain**).\n",
    "\n",
    "For this tutorial, we'll be using a normal Python function that will act as a toy\n",
    "simulator. Its domain will be a rectanglular input space $\\mathcal{D}$ consisting of 2 input points $(x_1, x_2)$ where\n",
    "$0 \\leq x_1 \\leq 1$ and $-0.5 \\leq x_2 \\leq 1.5$. (In practice, a real simulator would most\n",
    "likely run on a different computer with powerful performance capabilities, perhaps even\n",
    "exascale levels of computational power, and the domain will likely have quite a few more dimensions.)\n",
    "\n",
    "We begin by creating the domain of the simulator to represent the above rectangle. We\n",
    "do this by using the [`SimulatorDomain`][exauq.core.modelling.SimulatorDomain] class,\n",
    "like so:"
   ]
  },
  {
   "cell_type": "code",
   "execution_count": 1,
   "metadata": {},
   "outputs": [],
   "source": [
    "from exauq.core.modelling import SimulatorDomain\n",
    "\n",
    "# The bounds define the lower and upper bounds on each coordinate\n",
    "bounds = [(0, 1), (-0.5, 1.5)]\n",
    "domain = SimulatorDomain(bounds)"
   ]
  },
  {
   "cell_type": "markdown",
   "metadata": {},
   "source": [
    "The dimension of the domain, i.e. the number of coordinates defining it, can be obtained\n",
    "using the [`dim`][exauq.core.modelling.SimulatorDomain.dim] property:"
   ]
  },
  {
   "cell_type": "code",
   "execution_count": 2,
   "metadata": {},
   "outputs": [
    {
     "name": "stdout",
     "output_type": "stream",
     "text": [
      "Dimension of domain: 2\n"
     ]
    }
   ],
   "source": [
    "print(\"Dimension of domain:\", domain.dim)"
   ]
  },
  {
   "cell_type": "markdown",
   "metadata": {},
   "source": [
    "To represent the inputs to the simulator, the EXAUQ-Toolbox uses objects called\n",
    "[`Input`][exauq.core.modelling.Input]s, which behave much like ordinary tuples of numbers.\n",
    "We can create [`Input`][exauq.core.modelling.Input] objects like so:"
   ]
  },
  {
   "cell_type": "code",
   "execution_count": 3,
   "metadata": {},
   "outputs": [],
   "source": [
    "from exauq.core.modelling import Input\n",
    "\n",
    "input_x1 = Input(1, 0)  # i.e. (1, 0)\n",
    "input_x2 = Input(0, 99)  # i.e. (0, 99)"
   ]
  },
  {
   "cell_type": "markdown",
   "metadata": {},
   "source": [
    "[`Input`][exauq.core.modelling.Input]s behave like `tuple`s, in that we can get their\n",
    "length (i.e. the dimension of the input) and access the individual coordinates using\n",
    "Python's (0-based) indexing."
   ]
  },
  {
   "cell_type": "code",
   "execution_count": 4,
   "metadata": {},
   "outputs": [
    {
     "name": "stdout",
     "output_type": "stream",
     "text": [
      "Dimension of input_x1: 2\n",
      "First coordinate of input_x1: 1\n",
      "Second coordinate of input_x1: 0\n"
     ]
    }
   ],
   "source": [
    "print(\"Dimension of input_x1:\", len(input_x1))\n",
    "print(\"First coordinate of input_x1:\", input_x1[0])\n",
    "print(\"Second coordinate of input_x1:\", input_x1[1])"
   ]
  },
  {
   "cell_type": "markdown",
   "metadata": {},
   "source": [
    "We can also verify whether an [`Input`][exauq.core.modelling.Input] belongs to a simulator\n",
    "domain using the [`in`][exauq.core.modelling.SimulatorDomain.__contains__] operator:"
   ]
  },
  {
   "cell_type": "code",
   "execution_count": 5,
   "metadata": {},
   "outputs": [
    {
     "name": "stdout",
     "output_type": "stream",
     "text": [
      "True\n",
      "False\n"
     ]
    }
   ],
   "source": [
    "print(input_x1 in domain)  # input_x1 is contained in the domain\n",
    "print(input_x2 in domain)  # input_x2 is not contained in the domain"
   ]
  },
  {
   "cell_type": "markdown",
   "metadata": {},
   "source": [
    "We now define our toy simulator function to be the mathematical function\n",
    "$$\n",
    "f(x_1, x_2) = x_2 + x_1^2 + x_2^2 - \\sqrt{2} + \\mathrm{sin}(2\\pi x_1) + \\mathrm{sin}(4\\pi x_1 x_2)\n",
    "$$\n",
    "In code, this is given as follows:"
   ]
  },
  {
   "cell_type": "code",
   "execution_count": 6,
   "metadata": {},
   "outputs": [],
   "source": [
    "import numpy as np\n",
    "\n",
    "def sim_func(x: Input) -> float:\n",
    "    return (\n",
    "        x[1] + x[0]**2 + x[1]**2 - np.sqrt(2)\n",
    "        + np.sin(2 * np.pi * x[0]) + np.sin(4 * np.pi * x[0] * x[1])\n",
    "    )"
   ]
  },
  {
   "cell_type": "markdown",
   "metadata": {},
   "source": [
    "## Creating an experimental design\n",
    "\n",
    "We'll now go on to create a one-shot experimental design for this simulator, using the Latin hypercube method. The following wrapper function [`oneshot_lhs`][exauq.core.designers.oneshot_lhs] uses functionality provided by [SciPy's LatinHypercube](https://docs.scipy.org/doc/scipy/reference/generated/scipy.stats.qmc.LatinHypercube.html) to create a Latin hypercube sample of 20 new input points."
   ]
  },
  {
   "cell_type": "code",
   "execution_count": 7,
   "metadata": {},
   "outputs": [],
   "source": [
    "from exauq.core.designers import oneshot_lhs\n",
    "\n",
    "# Use the dimension of the domain in defining the Latin hypercube sampler.\n",
    "# Also set a seed to make the sampling repeatable.\n",
    "lhs_inputs = oneshot_lhs(domain = domain, \n",
    "                         batch_size = 20, \n",
    "                         seed = 1)"
   ]
  },
  {
   "cell_type": "markdown",
   "metadata": {},
   "source": [
    "Behind the scenes in [`oneshot_lhs`][exauq.core.designers.oneshot_lhs], SciPy generates a Numpy array of shape (20, 2), where each value lies between 0 and 1. To integrate this design into the EXAUQ-Toolbox, the array is transformed into a sequence of [`Input`][exauq.core.modelling.Input] objects using the [`scale`][exauq.core.modelling.SimulatorDomain.scale] method."
   ]
  },
  {
   "cell_type": "markdown",
   "metadata": {},
   "source": [
    "This defines our one-shot experimental design. Next let's go on to train a Gaussian process emulator with this design.\n",
    "\n",
    "## Training a GP\n",
    "\n",
    "The EXAUQ-Toolbox provides an implementation of Gaussian processes via the\n",
    "[`MogpEmulator`][exauq.core.emulators.MogpEmulator] class. This is based on the\n",
    "[mogp_emulator](https://mogp-emulator.readthedocs.io/en/latest/index.html) package, but\n",
    "provides a simpler interface. Furthermore, the\n",
    "[`MogpEmulator`][exauq.core.emulators.MogpEmulator] class implicitly assumes a\n",
    "zero mean function. We'll create a GP that uses a Matern 5/2 kernel function."
   ]
  },
  {
   "cell_type": "code",
   "execution_count": 8,
   "metadata": {},
   "outputs": [],
   "source": [
    "from exauq.core.emulators import MogpEmulator\n",
    "\n",
    "gp = MogpEmulator(kernel=\"Matern52\")"
   ]
  },
  {
   "cell_type": "markdown",
   "metadata": {},
   "source": [
    "The [`training_data`][exauq.core.emulators.MogpEmulator.training_data] property of\n",
    "[`MogpEmulator`][exauq.core.emulators.MogpEmulator]\n",
    "objects returns a tuple of the data that the GP has been trained on, if at all. We can\n",
    "verify that our GP hasn't yet been trained on any data, as evidenced by the empty tuple:"
   ]
  },
  {
   "cell_type": "code",
   "execution_count": 9,
   "metadata": {},
   "outputs": [
    {
     "data": {
      "text/plain": [
       "()"
      ]
     },
     "execution_count": 9,
     "metadata": {},
     "output_type": "execute_result"
    }
   ],
   "source": [
    "gp.training_data"
   ]
  },
  {
   "cell_type": "markdown",
   "metadata": {},
   "source": [
    "In order to train a GP, we need not just the experimental design that we created earlier\n",
    "but also the simulator outputs for the inputs in the design. The inputs and corresponding\n",
    "outputs need to be combined to create a sequence of\n",
    "[`TrainingDatum`][exauq.core.modelling.TrainingDatum] objects, which will be fed into the\n",
    "GP to train it. The following code first calculates the simulator outputs for the design\n",
    "inputs, then creates a list of training data:"
   ]
  },
  {
   "cell_type": "code",
   "execution_count": 10,
   "metadata": {},
   "outputs": [
    {
     "name": "stdout",
     "output_type": "stream",
     "text": [
      "Inputs:                                 Output:             \n",
      "------------------------------------------------------------\n",
      "0.2744089188        1.0049536304        1.3460506974        \n",
      "0.5927920194        -0.3948649447       -2.0511268894       \n",
      "0.8344084274        0.9576673551        -0.2842618194       \n",
      "0.1586148703        0.0590800864        -0.3693644148       \n",
      "0.7225203156        0.1972440887        -0.6652784078       \n"
     ]
    }
   ],
   "source": [
    "from exauq.core.modelling import TrainingDatum\n",
    "\n",
    "# Calculate simulator outputs using our toy simulator function\n",
    "outputs = [sim_func(x) for x in lhs_inputs]\n",
    "\n",
    "# Create the training data of input/output pairs\n",
    "data = [TrainingDatum(x, y) for x, y in zip(lhs_inputs, outputs)]\n",
    "\n",
    "# Inspect the first 5 rows of datum in the list\n",
    "TrainingDatum.tabulate(data, rows = 5)"
   ]
  },
  {
   "cell_type": "markdown",
   "metadata": {},
   "source": [
    "To train our GP, we use the [`fit`][exauq.core.emulators.MogpEmulator.fit] method with the\n",
    "training data:"
   ]
  },
  {
   "cell_type": "code",
   "execution_count": 11,
   "metadata": {},
   "outputs": [
    {
     "name": "stdout",
     "output_type": "stream",
     "text": [
      "Inputs:                                 Output:             \n",
      "------------------------------------------------------------\n",
      "0.2744089188        1.0049536304        1.3460506974        \n",
      "0.5927920194        -0.3948649447       -2.0511268894       \n",
      "0.8344084274        0.9576673551        -0.2842618194       \n",
      "0.1586148703        0.0590800864        -0.3693644148       \n",
      "0.7225203156        0.1972440887        -0.6652784078       \n"
     ]
    }
   ],
   "source": [
    "gp.fit(data)\n",
    "\n",
    "# Verify training by examining the training data\n",
    "TrainingDatum.tabulate(gp.training_data, rows = 5)"
   ]
  },
  {
   "cell_type": "markdown",
   "metadata": {},
   "source": [
    "We have used our Latin hypercube design and the corresponding simulator outputs to train\n",
    "our GP, making it ready for prediction of our simulator. We put this to work in the next section.\n",
    "\n",
    "## Making predictions with the GP\n",
    "\n",
    "To finish off, let's use our newly-trained GP to estimate the output of our simulator at a\n",
    "new input. We make a prediction with the GP using the\n",
    "[`predict`][exauq.core.emulators.MogpEmulator.predict] method. Predictions from emulators\n",
    "come with both the actual estimate and a measure of the uncertainty of that estimate. For\n",
    "GPs, this is packaged up in a\n",
    "[`GaussianProcessPrediction`][exauq.core.modelling.GaussianProcessPrediction] object,\n",
    "which provides the [`estimate`][exauq.core.modelling.GaussianProcessPrediction.estimate]\n",
    "property for the point estimate and the\n",
    "[`variance`][exauq.core.modelling.GaussianProcessPrediction.variance] and\n",
    "[`standard_deviation`][exauq.core.modelling.GaussianProcessPrediction.standard_deviation]\n",
    "properties for a measure of the uncertainty (as the predictive variance and standard\n",
    "deviation, respectively)."
   ]
  },
  {
   "cell_type": "code",
   "execution_count": 12,
   "metadata": {},
   "outputs": [
    {
     "name": "stdout",
     "output_type": "stream",
     "text": [
      "GaussianProcessPrediction(estimate=np.float64(2.982668409159336), variance=np.float64(0.3252151926884823), standard_deviation=0.5702764177909536)\n",
      "Point estimate: 2.982668409159336\n",
      "Variance of estimate: 0.3252151926884823\n",
      "Standard deviation of estimate: 0.5702764177909536\n"
     ]
    }
   ],
   "source": [
    "x = Input(0.5, 1.5)\n",
    "prediction = gp.predict(x)\n",
    "\n",
    "print(prediction)\n",
    "print(\"Point estimate:\", prediction.estimate)\n",
    "print(\"Variance of estimate:\", prediction.variance)\n",
    "print(\"Standard deviation of estimate:\", prediction.standard_deviation)"
   ]
  },
  {
   "cell_type": "markdown",
   "metadata": {},
   "source": [
    "Let's see how well the prediction did against the true simulator value:"
   ]
  },
  {
   "cell_type": "code",
   "execution_count": 13,
   "metadata": {},
   "outputs": [
    {
     "name": "stdout",
     "output_type": "stream",
     "text": [
      "Predicted value: 2.982668409159336\n",
      "Actual simulator value: 2.5857864376269055\n",
      "Percentage error: 15.348598235230412\n"
     ]
    }
   ],
   "source": [
    "y = sim_func(x)  # the true value\n",
    "pct_error = 100 * abs((prediction.estimate - y) / y)\n",
    "\n",
    "print(\"Predicted value:\", prediction.estimate)\n",
    "print(\"Actual simulator value:\", y)\n",
    "print(\"Percentage error:\", pct_error)"
   ]
  },
  {
   "cell_type": "markdown",
   "metadata": {},
   "source": [
    "Finally, because the prediction comes from a GP, we can also calculate the normalised\n",
    "expected square error via the\n",
    "[`nes_error`][exauq.core.modelling.GaussianProcessPrediction.nes_error], which gives a\n",
    "measure of the (absolute, squared) error that accounts for the uncertainty in the\n",
    "prediction:"
   ]
  },
  {
   "cell_type": "code",
   "execution_count": 14,
   "metadata": {},
   "outputs": [
    {
     "data": {
      "text/plain": [
       "0.7480505650275304"
      ]
     },
     "execution_count": 14,
     "metadata": {},
     "output_type": "execute_result"
    }
   ],
   "source": [
    "prediction.nes_error(y)"
   ]
  },
  {
   "cell_type": "code",
   "execution_count": 15,
   "metadata": {},
   "outputs": [
    {
     "name": "stdout",
     "output_type": "stream",
     "text": [
      "Inputs:             Output:             \n",
      "----------------------------------------\n",
      "1.0000000000        1.0000000000        \n",
      "-1.1234567899       1.3283498234        \n"
     ]
    }
   ],
   "source": [
    "data = [TrainingDatum(Input(1), 1), TrainingDatum(Input(-1.1234567898765544), 1.3283498234198763)]\n",
    "TrainingDatum.tabulate(data)"
   ]
  }
 ],
 "metadata": {
  "kernelspec": {
   "display_name": "exauq-U32eSCBI-py3.12",
   "language": "python",
   "name": "python3"
  },
  "language_info": {
   "codemirror_mode": {
    "name": "ipython",
    "version": 3
   },
   "file_extension": ".py",
   "mimetype": "text/x-python",
   "name": "python",
   "nbconvert_exporter": "python",
   "pygments_lexer": "ipython3",
   "version": "3.12.6"
  }
 },
 "nbformat": 4,
 "nbformat_minor": 2
}
