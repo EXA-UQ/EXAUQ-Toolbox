{
 "cells": [
  {
   "cell_type": "markdown",
   "id": "98936916-e046-4f12-a8b3-00eeb32db431",
   "metadata": {},
   "source": [
    "# Single Level Adaptive Sampling\n",
    "\n",
    "This tutorial will show you how to extend an initial experimental design for a Gaussian\n",
    "process (GP) emulator, using an adaptive sampling technique. The idea is to take our\n",
    "current GP and find a new design point (or batch of points) that will have 'the greatest\n",
    "impact' on improving the fit of the GP.\n",
    "\n",
    "This tutorial will show you how to:\n",
    "\n",
    "* Use the function\n",
    "  [`compute_single_level_loo_samples`][exauq.core.designers.compute_single_level_loo_samples]\n",
    "  to extend an initial experimental design with a new design point (or batch of\n",
    "  new design points).\n",
    "* How to repeatedly add new design points using this method.\n",
    "\n",
    "If you are unfamiliar with how to train a GP using the EXAUQ-Toolbox, you may want to\n",
    "first work through the tutorial, [Training A Gaussian Process Emulator](./training_gp_tutorial.md).\n",
    "\n",
    "!!! note\n",
    "\n",
    "    The function\n",
    "    [`compute_single_level_loo_samples`][exauq.core.designers.compute_single_level_loo_samples]\n",
    "    implements the cross-validation-based adaptive sampling for GPs, as described in\n",
    "    Mohammadi, H. et al. (2022) \"Cross-Validation-based Adaptive Sampling for Gaussian process models\". DOI:\n",
    "    <https://doi.org/10.1137/21M1404260>.\n",
    "\n",
    "\n",
    "## Setup\n",
    "\n",
    "We'll work with the same toy simulator function found in the tutorial,\n",
    "[Training A Gaussian Process Emulator](./training_gp_tutorial.md). This is the function\n",
    "$$\n",
    "f(x_1, x_2) = x_2 + x_1^2 + x_2^2 - \\sqrt{2} + \\mathrm{sin}(2\\pi x_1) + \\mathrm{sin}(4\\pi x_1 x_2)\n",
    "$$\n",
    "with simulator domain defined as the rectangle $\\mathcal{D}$ consisting of points\n",
    "$(x_1, x_2)$ where $-1 \\leq x_1 \\leq 1$ and $1 \\leq x_2 \\leq 100$. We can express this in\n",
    "code as follows:"
   ]
  },
  {
   "cell_type": "code",
   "execution_count": 1,
   "id": "7237ad66",
   "metadata": {},
   "outputs": [],
   "source": [
    "from exauq.core.modelling import SimulatorDomain, Input\n",
    "import numpy as np\n",
    "\n",
    "# The bounds define the lower and upper bounds on each coordinate\n",
    "domain = SimulatorDomain(bounds=[(-1, 1), (1, 100)])\n",
    "\n",
    "def sim_func(x: Input) -> float:\n",
    "    return (\n",
    "        x[1] + x[0]**2 + x[1]**2 - np.sqrt(2)\n",
    "        + np.sin(2 * np.pi * x[0]) + np.sin(4 * np.pi * x[0] * x[1])\n",
    "    )"
   ]
  },
  {
   "cell_type": "markdown",
   "id": "27f3eaf4",
   "metadata": {},
   "source": [
    "## Initial design\n",
    "\n",
    "To perform adaptive sampling, we need to begin with a Gaussian process (GP) emulator\n",
    "trained with an initial design. We'll do this by using a Latin hypercube designer [`oneshot_lhs`][exauq.core.designers.oneshot_lhs] (with the\n",
    "aid of [scipy](https://scipy.org/)) and using a GP with a Matern 5/2 kernel. The approach below is a condensed version of that found in the tutorial\n",
    "[Training A Gaussian Process Emulator](./training_gp_tutorial.md)."
   ]
  },
  {
   "cell_type": "code",
   "execution_count": 2,
   "id": "8a5158c8",
   "metadata": {},
   "outputs": [],
   "source": [
    "from exauq.core.designers import oneshot_lhs\n",
    "from exauq.core.modelling import TrainingDatum\n",
    "from exauq.core.emulators import MogpEmulator\n",
    "\n",
    "# Create Latin hypercube sample, setting a seed to make the sampling repeatable.\n",
    "lhs_inputs = oneshot_lhs(domain, 20, seed=1)\n",
    "\n",
    "# Calculate simulator outputs, using our toy simulator function.\n",
    "outputs = [sim_func(x) for x in lhs_inputs]\n",
    "\n",
    "# Create the training data of input/output pairs.\n",
    "data = [TrainingDatum(x, y) for x, y in zip(lhs_inputs, outputs)]\n",
    "\n",
    "# Define a GP with a Matern 5/2 kernel and fit to the data.\n",
    "gp = MogpEmulator(kernel=\"Matern52\")\n",
    "gp.fit(data)"
   ]
  },
  {
   "cell_type": "markdown",
   "id": "85fbc85d-bd80-44bc-9ce2-79eda139a79d",
   "metadata": {},
   "source": [
    "## Extend the design using leave-one-out adaptive sampling\n",
    "\n",
    "Let's now find a new design point using the leave-one-out adaptive design methodology. The\n",
    "idea is to take our current GP and find a new design point (or batch of points) that will\n",
    "have 'the greatest impact' on improving the fit of the GP, when combined with the\n",
    "corresponding simulator output (or outputs in the batch case). We use the function\n",
    "[`compute_single_level_loo_samples`][exauq.core.designers.compute_single_level_loo_samples]\n",
    "to do this. This function requires two arguments:\n",
    "\n",
    "- The GP to find the new design point for.\n",
    "- The [`SimulatorDomain`][exauq.core.modelling.SimulatorDomain] describing the domain on\n",
    "  which the simulator is defined.\n",
    "\n",
    "By default, a batch consisting of a single, new design point will be calculated:"
   ]
  },
  {
   "cell_type": "code",
   "execution_count": 3,
   "id": "21059bd1-e419-47f1-b51f-9366c249a0f3",
   "metadata": {},
   "outputs": [
    {
     "data": {
      "text/plain": [
       "Input(np.float64(-0.8406629350834728), np.float64(54.59551877931948))"
      ]
     },
     "execution_count": 3,
     "metadata": {},
     "output_type": "execute_result"
    }
   ],
   "source": [
    "from exauq.core.designers import compute_single_level_loo_samples\n",
    "\n",
    "# Suppress warnings that arise from mogp_emulator\n",
    "import warnings\n",
    "warnings.filterwarnings(\"ignore\")\n",
    "\n",
    "new_design_pts = compute_single_level_loo_samples(gp, domain)\n",
    "new_design_pts[0]"
   ]
  },
  {
   "cell_type": "markdown",
   "id": "0c7b1da5-0ad8-40a7-bceb-723d26e197a8",
   "metadata": {},
   "source": [
    "If instead we want to compute multiple new design points in one go, we can do this by\n",
    "specifying a different batch size:"
   ]
  },
  {
   "cell_type": "code",
   "execution_count": 4,
   "id": "fda4a52c-b333-4b6b-94b4-45e909b3f6b1",
   "metadata": {},
   "outputs": [
    {
     "data": {
      "text/plain": [
       "(Input(np.float64(0.28531221871471435), np.float64(56.69939862898222)),\n",
       " Input(np.float64(-0.678117788729617), np.float64(55.504488440987586)),\n",
       " Input(np.float64(-0.615215450609331), np.float64(52.35567885821769)),\n",
       " Input(np.float64(0.9741095778371847), np.float64(48.70070706456847)),\n",
       " Input(np.float64(0.7712020136227462), np.float64(53.754204631456645)))"
      ]
     },
     "execution_count": 4,
     "metadata": {},
     "output_type": "execute_result"
    }
   ],
   "source": [
    "new_design_pts = compute_single_level_loo_samples(gp, domain, batch_size=5)\n",
    "new_design_pts"
   ]
  },
  {
   "cell_type": "markdown",
   "id": "47a0bd5e-037d-4710-99a3-8c3309f4a234",
   "metadata": {},
   "source": [
    "Note how the new design points all lie within the simulator domain we defined earlier,\n",
    "i.e. they all lie in the rectangle $\\mathcal{D}$.\n",
    "\n",
    "It's worth pointing out that these design points are not equal to any of the training inputs\n",
    "for the GP:"
   ]
  },
  {
   "cell_type": "code",
   "execution_count": 5,
   "id": "c1697db5",
   "metadata": {},
   "outputs": [],
   "source": [
    "training_inputs = [datum.input for datum in gp.training_data]\n",
    "for x in new_design_pts:\n",
    "    assert not any(x == x_train for x_train in training_inputs)"
   ]
  },
  {
   "cell_type": "markdown",
   "id": "3e4dfa10",
   "metadata": {},
   "source": [
    "## Update the GP\n",
    "\n",
    "The final step is to update the fit of the GP using the newly-calculated design points.\n",
    "This first requires us to compute the simulator values at the design points (in our case,\n",
    "using the toy function defined earlier) in order to create new training data:"
   ]
  },
  {
   "cell_type": "code",
   "execution_count": 6,
   "id": "98b05590",
   "metadata": {},
   "outputs": [
    {
     "data": {
      "text/plain": [
       "[np.float64(3271.957631776642),\n",
       " np.float64(3135.2126119140034),\n",
       " np.float64(2792.617885531576),\n",
       " np.float64(2419.1461470496192),\n",
       " np.float64(2940.9260203298813)]"
      ]
     },
     "execution_count": 6,
     "metadata": {},
     "output_type": "execute_result"
    }
   ],
   "source": [
    "new_outputs = [sim_func(x) for x in new_design_pts]\n",
    "\n",
    "new_outputs"
   ]
  },
  {
   "cell_type": "markdown",
   "id": "330022ae",
   "metadata": {},
   "source": [
    "Then to update the GP, we pass the new design points and outputs to the update method. \n",
    "\n",
    "(**Aside**: If you wished to update the hyperparameters at this stage, you can also pass new hyperparameters through the update method to replace those fit onto the GP.)"
   ]
  },
  {
   "cell_type": "code",
   "execution_count": 7,
   "id": "a83fa641",
   "metadata": {},
   "outputs": [
    {
     "name": "stdout",
     "output_type": "stream",
     "text": [
      "Number of training data: 25\n"
     ]
    }
   ],
   "source": [
    "gp.update(new_design_pts, new_outputs)\n",
    "\n",
    "# Sense-check that the updated GP now has the combined data\n",
    "print(\"Number of training data:\", len(gp.training_data))"
   ]
  },
  {
   "cell_type": "markdown",
   "id": "741c8aa6",
   "metadata": {},
   "source": [
    "This completes one adaptive sampling 'iteration'. It's important to note that, when\n",
    "creating multiple new design points in a batch, the fit of the GP is not updated between\n",
    "the creation of each new point in the batch."
   ]
  },
  {
   "cell_type": "markdown",
   "id": "9121e9a9",
   "metadata": {},
   "source": [
    "## Repeated application\n",
    "\n",
    "In general, we can perform multiple adaptive sampling iterations to further improve the\n",
    "fit of the GP with newly sampled design point(s). The following code goes through five\n",
    "more sampling iterations, producing a single new design point at each iteration."
   ]
  },
  {
   "cell_type": "code",
   "execution_count": 8,
   "id": "a2457caa",
   "metadata": {},
   "outputs": [
    {
     "name": "stdout",
     "output_type": "stream",
     "text": [
      "==> Updated with new design point (np.float64(0.9999999700514739), np.float64(13.006427117830029))\n",
      "==> Updated with new design point (np.float64(-0.999999539484129), np.float64(93.19353357131692))\n",
      "==> Updated with new design point (np.float64(0.6909575329914937), np.float64(1.0000240196652754))\n",
      "==> Updated with new design point (np.float64(-0.9999998305823725), np.float64(41.48739508502695))\n",
      "==> Updated with new design point (np.float64(0.5951637408355355), np.float64(99.99999557807756))\n"
     ]
    }
   ],
   "source": [
    "for i in range(5):\n",
    "    # Find new design point adaptively (via batch of length 1)\n",
    "    x = compute_single_level_loo_samples(gp, domain)[0]\n",
    "    \n",
    "    # Compute simulator output at new design point\n",
    "    y = sim_func(x)\n",
    "\n",
    "    # Update GP fit (Note: Passing new points as a list)\n",
    "    gp.update([x], [y])\n",
    "\n",
    "    # Print design point found and level applied at\n",
    "    print(f\"==> Updated with new design point {x}\")\n"
   ]
  }
 ],
 "metadata": {
  "kernelspec": {
   "display_name": "exauq-U32eSCBI-py3.12",
   "language": "python",
   "name": "python3"
  },
  "language_info": {
   "codemirror_mode": {
    "name": "ipython",
    "version": 3
   },
   "file_extension": ".py",
   "mimetype": "text/x-python",
   "name": "python",
   "nbconvert_exporter": "python",
   "pygments_lexer": "ipython3",
   "version": "3.12.6"
  }
 },
 "nbformat": 4,
 "nbformat_minor": 5
}
