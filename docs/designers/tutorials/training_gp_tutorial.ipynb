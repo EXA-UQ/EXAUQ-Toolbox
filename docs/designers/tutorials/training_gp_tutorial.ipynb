{
 "cells": [
  {
   "cell_type": "markdown",
   "metadata": {},
   "source": [
    "# Training a Gaussian Process Emulator\n",
    "\n",
    "The purpose of this tutorial is to demonstrate how to train a Gaussian process (GP) to\n",
    "emulate a simulator. It introduces the main objects that the EXAUQ-Toolbox provides for\n",
    "training emulators and working with experimental designs. This tutorial will show you how\n",
    "to:\n",
    "\n",
    "* Work with simulator inputs and simulator domains.\n",
    "* Create an experimental design, using Latin hypercube sampling provided by\n",
    "  [scipy](https://scipy.org/).\n",
    "* Define a Gaussian process and train it using simulator outputs for the experimental\n",
    "  design.\n",
    "* Make new predictions of simulator outputs using the trained GP.\n",
    "\n",
    "<div class=\"admonition note\">\n",
    "    <p class=\"admonition-title\">Note</p>\n",
    "    <p>\n",
    "        Due to the pseudo-stochastic nature of the algorithms for fitting\n",
    "        Gaussian processes, you may get slight differences in some of the code outputs in\n",
    "        this tutorial.\n",
    "    </p>\n",
    "</div>"
   ]
  },
  {
   "cell_type": "markdown",
   "metadata": {},
   "source": [
    "## Simulator domain and inputs\n",
    "\n",
    "From an abstract, mathematical point of view, we view a **simulator** as nothing more than\n",
    "a (computationally laborious) deterministic function that takes an input and returns a single\n",
    "real number. In general, the input consists of a point in a multi-dimensional space called\n",
    "the **simulator domain** (or just **domain**).\n",
    "\n",
    "For this tutorial, we'll be using a normal Python function that will act as a toy\n",
    "simulator. Its domain will be the rectangle $\\mathcal{D}$ consisting of points $(x_1, x_2)$ where\n",
    "$-1 \\leq x_1 \\leq 1$ and $1 \\leq x_2 \\leq 100$. (In practice, a real simulator would most\n",
    "likely run on a different computer with powerful performance capabilities — perhaps even\n",
    "exascale levels of computational power — and the domain will have more quite a few more\n",
    "dimensions than just two.)\n",
    "\n",
    "We begin by creating the domain of the simulator to represent the above rectangle. We\n",
    "do this by using the `SimulatorDomain` class, like so:"
   ]
  },
  {
   "cell_type": "code",
   "execution_count": 1,
   "metadata": {},
   "outputs": [],
   "source": [
    "from exauq.core.modelling import SimulatorDomain\n",
    "\n",
    "# The bounds define the lower and upper bounds on each coordinate\n",
    "bounds = [(-1, 1), (1, 100)]\n",
    "domain = SimulatorDomain(bounds)"
   ]
  },
  {
   "cell_type": "markdown",
   "metadata": {},
   "source": [
    "The dimension of the domain, i.e. the number of coordinates defining it, can be obtained using the `dim` property:"
   ]
  },
  {
   "cell_type": "code",
   "execution_count": 2,
   "metadata": {},
   "outputs": [
    {
     "name": "stdout",
     "output_type": "stream",
     "text": [
      "Dimension of domain: 2\n"
     ]
    }
   ],
   "source": [
    "print(\"Dimension of domain:\", domain.dim)"
   ]
  },
  {
   "cell_type": "markdown",
   "metadata": {},
   "source": [
    "To represent the inputs to the simulator, the EXAUQ-Toolbox uses objects called `Input`s,\n",
    "which behave much like ordinary tuples of numbers. We can create `Input` objects like so:"
   ]
  },
  {
   "cell_type": "code",
   "execution_count": 3,
   "metadata": {},
   "outputs": [],
   "source": [
    "from exauq.core.modelling import Input\n",
    "\n",
    "x1 = Input(0, 99)  # i.e. (0, 99)\n",
    "x2 = Input(1, 0)  # i.e. (1, 0)"
   ]
  },
  {
   "cell_type": "markdown",
   "metadata": {},
   "source": [
    "`Input`s behave like `tuple`s, in that we can get their length (i.e. the dimension of\n",
    "the input point) and access the individual coordinates using Python's (0-based) indexing."
   ]
  },
  {
   "cell_type": "code",
   "execution_count": 4,
   "metadata": {},
   "outputs": [
    {
     "name": "stdout",
     "output_type": "stream",
     "text": [
      "Dimension of x1: 2\n",
      "First coordinate of x1: 0\n",
      "Second coordinate of x1: 99\n"
     ]
    }
   ],
   "source": [
    "print(\"Dimension of x1:\", len(x1))\n",
    "print(\"First coordinate of x1:\", x1[0])\n",
    "print(\"Second coordinate of x1:\", x1[1])"
   ]
  },
  {
   "cell_type": "markdown",
   "metadata": {},
   "source": [
    "We can also verify whether an `Input` belongs to a simulator domain using the `in`\n",
    "operator:"
   ]
  },
  {
   "cell_type": "code",
   "execution_count": 5,
   "metadata": {},
   "outputs": [
    {
     "name": "stdout",
     "output_type": "stream",
     "text": [
      "True\n",
      "False\n"
     ]
    }
   ],
   "source": [
    "print(x1 in domain)  # x1 is contained in the domain\n",
    "print(x2 in domain)  # x2 is not contained in the domain"
   ]
  },
  {
   "cell_type": "markdown",
   "metadata": {},
   "source": [
    "We now define our toy simulator function to be the mathematical function\n",
    "$$\n",
    "f(x_1, x_2) = x_2 + x_1^2 + x_2^2 - \\sqrt{2} + \\mathrm{sin}(2\\pi x_1) + \\mathrm{sin}(4\\pi x_1 x_2)\n",
    "$$\n",
    "In code, this is given as follows:"
   ]
  },
  {
   "cell_type": "code",
   "execution_count": 6,
   "metadata": {},
   "outputs": [],
   "source": [
    "import numpy as np\n",
    "\n",
    "def sim_func(x: Input) -> float:\n",
    "    return (\n",
    "        x[1] + x[0]**2 + x[1]**2 - np.sqrt(2)\n",
    "        + np.sin(2 * np.pi * x[0]) + np.sin(4 * np.pi * x[0] * x[1])\n",
    "    )"
   ]
  },
  {
   "cell_type": "markdown",
   "metadata": {},
   "source": [
    "## Creating an experimental design\n",
    "\n",
    "We'll now go on to create a one-shot experimental design for this simulator, using the Latin hypercube method. The following code uses functionality provided by [scipy](https://scipy.org/) to create a Latin hypercube sample of 20 new input points."
   ]
  },
  {
   "cell_type": "code",
   "execution_count": 7,
   "metadata": {},
   "outputs": [
    {
     "name": "stdout",
     "output_type": "stream",
     "text": [
      "[[0.27440892 0.75247682]\n",
      " [0.59279202 0.05256753]\n",
      " [0.83440843 0.72883368]\n",
      " [0.15861487 0.27954004]\n",
      " [0.72252032 0.34862204]\n",
      " [0.66232434 0.52309283]\n",
      " [0.78351341 0.86057856]\n",
      " [0.43484026 0.42732511]\n",
      " [0.14329792 0.62984435]\n",
      " [0.33982724 0.18688433]\n",
      " [0.86248177 0.58597956]\n",
      " [0.02574045 0.10096314]\n",
      " [0.20191714 0.8137605 ]\n",
      " [0.92293866 0.38615544]\n",
      " [0.9919674  0.90150373]\n",
      " [0.37419657 0.49420672]\n",
      " [0.46882551 0.96116584]\n",
      " [0.51934983 0.20413511]\n",
      " [0.64802036 0.67357054]\n",
      " [0.07703321 0.04688252]]\n"
     ]
    }
   ],
   "source": [
    "from scipy.stats.qmc import LatinHypercube\n",
    "\n",
    "# Use the dimension of the domain in defining the Latin hypercube sampler.\n",
    "# Also set a seed to make the sampling repeatable.\n",
    "sampler = LatinHypercube(domain.dim, seed=1)\n",
    "lhs_array = sampler.random(n=20)\n",
    "print(lhs_array)"
   ]
  },
  {
   "cell_type": "markdown",
   "metadata": {},
   "source": [
    "Note that the previous code block created a Numpy array of values, of shape `(20, 2)`,\n",
    "and each value lies between 0 and 1. In order to work with the design with the\n",
    "EXAUQ-Toolbox, we need to convert the array into a sequence of `Input` objects.\n",
    "Furthermore, because we want a design that fills the whole of our simulator\n",
    "domain $\\mathcal{D}$, we need to also rescale the inputs from the unit square to our\n",
    "domain. \n",
    "\n",
    "Fortunately, we can use the `scale` method from `SimulatorDomain` to accomplish this in\n",
    "one go. We loop through the Numpy array and use the `scale` method to convert each row of\n",
    "the array into an `Input` object that is rescaled to live in the domain:"
   ]
  },
  {
   "cell_type": "code",
   "execution_count": 8,
   "metadata": {},
   "outputs": [
    {
     "name": "stdout",
     "output_type": "stream",
     "text": [
      "Input(np.float64(-0.45118216247002574), np.float64(75.49520470318662))\n",
      "Input(np.float64(0.18558403872803675), np.float64(6.204185236670643))\n"
     ]
    }
   ],
   "source": [
    "lhs_inputs = [domain.scale(row) for row in lhs_array]\n",
    "\n",
    "# Print the first couple of inputs to verify conversion:\n",
    "print(repr(lhs_inputs[0]))\n",
    "print(repr(lhs_inputs[1]))"
   ]
  },
  {
   "cell_type": "markdown",
   "metadata": {},
   "source": [
    "This defines our one-shot experimental design. Next let's go on to train a Gaussian process emulator with this design."
   ]
  },
  {
   "cell_type": "markdown",
   "metadata": {},
   "source": [
    "## Training a GP\n",
    "\n",
    "The EXAUQ-Toolbox provides an implementation of Gaussian processes via the `MogpEmulator`\n",
    "class. This is based on the\n",
    "[mogp_emulator](https://mogp-emulator.readthedocs.io/en/latest/index.html) package, but\n",
    "provides a simpler interface. Furthermore, the `MogpEmulator` class implicitly assumes a\n",
    "zero mean function. We'll create a GP that uses a Matern 5/2 kernel function. (The\n",
    "messages printed are from the `mogp_emulator` package and can be ignored: they arise\n",
    "because the GP hasn't yet been trained on any data.)"
   ]
  },
  {
   "cell_type": "code",
   "execution_count": 9,
   "metadata": {},
   "outputs": [
    {
     "name": "stdout",
     "output_type": "stream",
     "text": [
      "Too few unique inputs; defaulting to flat priors\n",
      "Too few unique inputs; defaulting to flat priors\n"
     ]
    }
   ],
   "source": [
    "from exauq.core.emulators import MogpEmulator\n",
    "\n",
    "gp = MogpEmulator(kernel=\"Matern52\")"
   ]
  },
  {
   "cell_type": "markdown",
   "metadata": {},
   "source": [
    "The `training_data` property of `MogpEmulator` objects returns a tuple of the data that\n",
    "the GP has been trained on, if at all. We can verify that our GP hasn't yet been trained\n",
    "on any data, as evidenced by the empty tuple:"
   ]
  },
  {
   "cell_type": "code",
   "execution_count": 10,
   "metadata": {},
   "outputs": [
    {
     "data": {
      "text/plain": [
       "()"
      ]
     },
     "execution_count": 10,
     "metadata": {},
     "output_type": "execute_result"
    }
   ],
   "source": [
    "gp.training_data"
   ]
  },
  {
   "cell_type": "markdown",
   "metadata": {},
   "source": [
    "In order to train a GP, we need not just the experimental design that we created earlier\n",
    "but also the simulator outputs for the inputs in the design. The inputs and corresponding\n",
    "outputs need to be combined to create a sequence of `TrainingDatum` objects, which will be\n",
    "fed into the GP to train it. The following code first calculates the simulator outputs for\n",
    "the design inputs, then creates a list of training data:"
   ]
  },
  {
   "cell_type": "code",
   "execution_count": 11,
   "metadata": {},
   "outputs": [
    {
     "data": {
      "text/plain": [
       "TrainingDatum(input=Input(np.float64(-0.45118216247002574), np.float64(75.49520470318662)), output=np.float64(5772.805093637131))"
      ]
     },
     "execution_count": 11,
     "metadata": {},
     "output_type": "execute_result"
    }
   ],
   "source": [
    "from exauq.core.modelling import TrainingDatum\n",
    "\n",
    "# Calculate simulator outputs using our toy simulator function\n",
    "outputs = [sim_func(x) for x in lhs_inputs]\n",
    "\n",
    "# Create the training data of input/output pairs\n",
    "data = [TrainingDatum(x, y) for x, y in zip(lhs_inputs, outputs)]\n",
    "\n",
    "# Inspect the first datum in the list\n",
    "data[0]"
   ]
  },
  {
   "cell_type": "markdown",
   "metadata": {},
   "source": [
    "To train our GP, we use the `fit` method with the training data:"
   ]
  },
  {
   "cell_type": "code",
   "execution_count": 12,
   "metadata": {},
   "outputs": [],
   "source": [
    "gp.fit(data)\n",
    "\n",
    "# Verify training by examining the training data\n",
    "assert len(gp.training_data) == 20"
   ]
  },
  {
   "cell_type": "markdown",
   "metadata": {},
   "source": [
    "We have used our Latin hypercube design and the corresponding simulator outputs to train\n",
    "our GP, making it ready to emulate our simulator. We put this to work in the next section."
   ]
  },
  {
   "cell_type": "markdown",
   "metadata": {},
   "source": [
    "## Making predictions with the GP\n",
    "\n",
    "To finish off, let's use our newly-trained GP to estimate the output of our simulator at a\n",
    "new input. We make a prediction with the GP using the `predict` method. Predictions from\n",
    "GPs come with both the actual estimate and a measure of the uncertainty of that estimate.\n",
    "This is packaged up in a `GaussianProcessPrediction` object, which provides the `estimate`\n",
    "property for the point estimate and the `variance` and `standard_deviation` properties\n",
    "for a measure of the uncertainty (as the predictive variance and standard deviation,\n",
    "respectfully)."
   ]
  },
  {
   "cell_type": "code",
   "execution_count": 13,
   "metadata": {},
   "outputs": [
    {
     "name": "stdout",
     "output_type": "stream",
     "text": [
      "GaussianProcessPrediction(estimate=np.float64(2549.606794849351), variance=np.float64(2.5214422941207886), standard_deviation=1.5879050016045635)\n",
      "Point estimate: 2549.606794849351\n",
      "Variance of estimate: 2.5214422941207886\n",
      "Standard deviation of estimate: 1.5879050016045635\n"
     ]
    }
   ],
   "source": [
    "x = Input(0.5, 50)\n",
    "prediction = gp.predict(x)\n",
    "\n",
    "print(prediction)\n",
    "print(\"Point estimate:\", prediction.estimate)\n",
    "print(\"Variance of estimate:\", prediction.variance)\n",
    "print(\"Standard deviation of estimate:\", prediction.standard_deviation)"
   ]
  },
  {
   "cell_type": "markdown",
   "metadata": {},
   "source": [
    "Let's see how well the prediction did against the true simulator value:"
   ]
  },
  {
   "cell_type": "code",
   "execution_count": 14,
   "metadata": {},
   "outputs": [
    {
     "name": "stdout",
     "output_type": "stream",
     "text": [
      "Predicted value: 2549.606794849351\n",
      "Actual simulator value: 2548.835786437627\n",
      "Percentage error: 0.03024943449971985\n"
     ]
    }
   ],
   "source": [
    "y = sim_func(x)  # the true value\n",
    "pct_error = 100 * abs((prediction.estimate - y) / y)\n",
    "\n",
    "print(\"Predicted value:\", prediction.estimate)\n",
    "print(\"Actual simulator value:\", y)\n",
    "print(\"Percentage error:\", pct_error)"
   ]
  },
  {
   "cell_type": "markdown",
   "metadata": {},
   "source": [
    "Finally, because the prediction comes from a GP, we can also calculate the normalised expected square error, which gives a measure of the (absolute, squared) error that accounts for the uncertainty in the prediction:"
   ]
  },
  {
   "cell_type": "code",
   "execution_count": 15,
   "metadata": {},
   "outputs": [
    {
     "data": {
      "text/plain": [
       "0.7203374977305831"
      ]
     },
     "execution_count": 15,
     "metadata": {},
     "output_type": "execute_result"
    }
   ],
   "source": [
    "prediction.nes_error(y)"
   ]
  }
 ],
 "metadata": {
  "kernelspec": {
   "display_name": ".venv",
   "language": "python",
   "name": "python3"
  },
  "language_info": {
   "codemirror_mode": {
    "name": "ipython",
    "version": 3
   },
   "file_extension": ".py",
   "mimetype": "text/x-python",
   "name": "python",
   "nbconvert_exporter": "python",
   "pygments_lexer": "ipython3",
   "version": "3.10.14"
  }
 },
 "nbformat": 4,
 "nbformat_minor": 2
}
